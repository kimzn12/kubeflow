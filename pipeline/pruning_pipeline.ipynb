{
 "cells": [
  {
   "cell_type": "code",
   "execution_count": 17,
   "metadata": {},
   "outputs": [
    {
     "data": {
      "text/html": [
       "Experiment link <a href=\"/pipeline/#/experiments/details/59355ac0-a50b-45c7-a435-3b7f987ecb36\" target=\"_blank\" >here</a>"
      ],
      "text/plain": [
       "<IPython.core.display.HTML object>"
      ]
     },
     "metadata": {},
     "output_type": "display_data"
    },
    {
     "data": {
      "text/html": [
       "Run link <a href=\"/pipeline/#/runs/details/7a84f7cb-1160-47f4-b531-d8f29b5dfa6c\" target=\"_blank\" >here</a>"
      ],
      "text/plain": [
       "<IPython.core.display.HTML object>"
      ]
     },
     "metadata": {},
     "output_type": "display_data"
    }
   ],
   "source": [
    "import kfp\n",
    "import kfp.dsl as dsl\n",
    "import kfp.onprem as onprem\n",
    "\n",
    "def echo_op(text):\n",
    "    return dsl.ContainerOp(\n",
    "        name='echo',\n",
    "        image='library/bash:4.4.23',\n",
    "        command=['sh', '-c'],\n",
    "        arguments=['echo \"$0\"', text],\n",
    "    )\n",
    "\n",
    "@dsl.pipeline(\n",
    "    name='FMnistPipeline',\n",
    "    description='mnist '\n",
    ")\n",
    "def fmnist_pipeline(learning_rate, dropout_rate,model_path,model_version):\n",
    "    \n",
    "    exit_task = echo_op(\"Done!\")\n",
    "    \n",
    "    with dsl.ExitHandler(exit_task): \n",
    "        \n",
    "        #vol component\n",
    "        #fmnist_pvc = dsl.PipelineVolume(pvc=\"tfjob-data-volume\", name=\"tfjob-data-volume\")\n",
    "        fmnist_vop = dsl.VolumeOp(\n",
    "            name=\"0_fmnist-volume\",\n",
    "            resource_name=\"fmnist-pvc\",\n",
    "            modes=dsl.VOLUME_MODE_RWO,\n",
    "            size=\"100Mi\"\n",
    "        )\n",
    "        \n",
    "        #base component\n",
    "        mnist = dsl.ContainerOp(\n",
    "            name='Train',\n",
    "            image='khw2126/mnist-simple:110CD8F7',\n",
    "            command=['python', '/app/Train.py'],\n",
    "            arguments=[\n",
    "                \"--learning_rate\", learning_rate,\n",
    "                \"--dropout_rate\", dropout_rate,\n",
    "                \"--model_path\", model_path,\n",
    "                \"--model_version\", model_version\n",
    "            ],\n",
    "            pvolumes={\"/result\": fmnist_vop.volume}\n",
    "        )\n",
    "        \n",
    "        #prun com\n",
    "        prun = dsl.ContainerOp(\n",
    "            name='pruning',\n",
    "            image='khw2126/pruning:0.0.9',\n",
    "            command=['python', '/app/Pruning.py'],\n",
    "            arguments=[\n",
    "                \"--model_path\", model_path,\n",
    "                \"--model_version\", model_version\n",
    "            ],\n",
    "            output_artifact_paths={'mlpipeline-metrics': '/mlpipeline-metrics.json'},\n",
    "            pvolumes={\"/result\": mnist.volume}\n",
    "        )\n",
    "        \n",
    "        #result com\n",
    "        result = dsl.ContainerOp(\n",
    "            name='list_list',\n",
    "            image='library/bash:4.4.23',\n",
    "            command=['ls', '-R', '/result'],\n",
    "            pvolumes={\"/result\": prun.pvolume}\n",
    "        )\n",
    "        \n",
    "        #order\n",
    "        prun.after(mnist)\n",
    "\n",
    "        result.after(prun)\n",
    "    \n",
    "#argument !![model_path, model_version]\n",
    "#model_version: name\n",
    "arguments = {'learning_rate': '0.001397',\n",
    "             'dropout_rate': '0.18',\n",
    "             'model_path':'/result/saved_model',\n",
    "             'model_version': 'quant-aware' \n",
    "            }\n",
    "    \n",
    "if __name__ == '__main__':\n",
    "    kfp.Client().create_run_from_pipeline_func(pipeline_func=fmnist_pipeline, \n",
    "                                               arguments=arguments)\n"
   ]
  },
  {
   "cell_type": "code",
   "execution_count": null,
   "metadata": {},
   "outputs": [],
   "source": []
  }
 ],
 "metadata": {
  "kernelspec": {
   "display_name": "Python 3",
   "language": "python",
   "name": "python3"
  },
  "language_info": {
   "codemirror_mode": {
    "name": "ipython",
    "version": 3
   },
   "file_extension": ".py",
   "mimetype": "text/x-python",
   "name": "python",
   "nbconvert_exporter": "python",
   "pygments_lexer": "ipython3",
   "version": "3.6.8"
  }
 },
 "nbformat": 4,
 "nbformat_minor": 4
}
