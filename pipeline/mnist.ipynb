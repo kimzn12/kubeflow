{
 "cells": [
  {
   "cell_type": "markdown",
   "metadata": {},
   "source": [
    "### Mnist"
   ]
  },
  {
   "cell_type": "code",
   "execution_count": 1,
   "metadata": {
    "scrolled": true
   },
   "outputs": [
    {
     "data": {
      "text/plain": [
       "'2.3.0'"
      ]
     },
     "execution_count": 1,
     "metadata": {},
     "output_type": "execute_result"
    }
   ],
   "source": [
    "import tensorflow as tf\n",
    "tf.__version__"
   ]
  },
  {
   "cell_type": "code",
   "execution_count": 2,
   "metadata": {},
   "outputs": [],
   "source": [
    "#필요한 모듈 import\n",
    "\n",
    "import tempfile\n",
    "import os\n",
    "\n",
    "import logging\n",
    "logging.getLogger(\"tensorflow\").setLevel(logging.DEBUG)\n",
    "\n",
    "import tensorflow as tf\n",
    "import numpy as np\n",
    "\n",
    "from tensorflow import keras\n",
    "\n",
    "import pathlib\n",
    "\n",
    "tflite_models_dir = pathlib.Path(\"/tmp/tflite_models/\")\n",
    "tflite_models_dir.mkdir(exist_ok=True, parents=True)\n",
    "\n",
    "import tensorflow_model_optimization as tfmot"
   ]
  },
  {
   "cell_type": "markdown",
   "metadata": {},
   "source": [
    "### BaseModel training and model save"
   ]
  },
  {
   "cell_type": "code",
   "execution_count": 3,
   "metadata": {},
   "outputs": [
    {
     "name": "stdout",
     "output_type": "stream",
     "text": [
      "Epoch 1/5\n",
      "1875/1875 [==============================] - 12s 6ms/step - loss: 0.2977 - accuracy: 0.9153 - val_loss: 0.1388 - val_accuracy: 0.9602\n",
      "Epoch 2/5\n",
      "1875/1875 [==============================] - 12s 6ms/step - loss: 0.1183 - accuracy: 0.9657 - val_loss: 0.0913 - val_accuracy: 0.9714\n",
      "Epoch 3/5\n",
      "1875/1875 [==============================] - 11s 6ms/step - loss: 0.0868 - accuracy: 0.9746 - val_loss: 0.0751 - val_accuracy: 0.9756\n",
      "Epoch 4/5\n",
      "1875/1875 [==============================] - 12s 6ms/step - loss: 0.0701 - accuracy: 0.9790 - val_loss: 0.0672 - val_accuracy: 0.9778\n",
      "Epoch 5/5\n",
      "1875/1875 [==============================] - 12s 6ms/step - loss: 0.0600 - accuracy: 0.9822 - val_loss: 0.0622 - val_accuracy: 0.9792\n",
      "Baseline test accuracy: 0.979200005531311\n",
      "Saved baseline model to: /tmp/tmp4gybi08f.h5\n"
     ]
    }
   ],
   "source": [
    "# Load MNIST dataset\n",
    "mnist = tf.keras.datasets.mnist\n",
    "(train_images, train_labels), (test_images, test_labels) = mnist.load_data()\n",
    "\n",
    "# Normalize the input image so that each pixel value is between 0 to 1.\n",
    "train_images = train_images.astype(np.float32) / 255.0\n",
    "test_images = test_images.astype(np.float32) / 255.0\n",
    "\n",
    "# Define the model architecture\n",
    "model = tf.keras.Sequential([\n",
    "  tf.keras.layers.InputLayer(input_shape=(28, 28)),\n",
    "  tf.keras.layers.Reshape(target_shape=(28, 28, 1)),\n",
    "  tf.keras.layers.Conv2D(filters=12, kernel_size=(3, 3), activation='relu'),\n",
    "  tf.keras.layers.MaxPooling2D(pool_size=(2, 2)),\n",
    "  tf.keras.layers.Flatten(),\n",
    "  tf.keras.layers.Dense(10)\n",
    "])\n",
    "\n",
    "# Train the digit classification model\n",
    "model.compile(optimizer='adam',\n",
    "              loss=tf.keras.losses.SparseCategoricalCrossentropy(\n",
    "                  from_logits=True),\n",
    "              metrics=['accuracy'])\n",
    "model.fit(\n",
    "  train_images,\n",
    "  train_labels,\n",
    "  epochs=5,\n",
    "  validation_data=(test_images, test_labels)\n",
    ")\n",
    " \n",
    "\n",
    "_, baseline_model_accuracy = model.evaluate(\n",
    "    test_images, test_labels, verbose=0)\n",
    "\n",
    "print('Baseline test accuracy:', baseline_model_accuracy)\n",
    "\n",
    "_, keras_file = tempfile.mkstemp('.h5')\n",
    "tf.keras.models.save_model(model, keras_file, include_optimizer=False)\n",
    "print('Saved baseline model to:', keras_file)"
   ]
  },
  {
   "cell_type": "markdown",
   "metadata": {},
   "source": [
    "### 필요한 함수"
   ]
  },
  {
   "cell_type": "code",
   "execution_count": 4,
   "metadata": {},
   "outputs": [],
   "source": [
    "# TFLite model 추론\n",
    "def run_tflite_model(tflite_file, test_image_indices):\n",
    "    global test_images\n",
    "\n",
    "    # Initialize the interpreter\n",
    "    interpreter = tf.lite.Interpreter(model_path=str(tflite_file))\n",
    "    interpreter.allocate_tensors()\n",
    "\n",
    "    input_details = interpreter.get_input_details()[0]\n",
    "    output_details = interpreter.get_output_details()[0]\n",
    "\n",
    "    predictions = np.zeros((len(test_image_indices),), dtype=int)\n",
    "    for i, test_image_index in enumerate(test_image_indices):\n",
    "        test_image = test_images[test_image_index]\n",
    "        test_label = test_labels[test_image_index]\n",
    "\n",
    "        # Check if the input type is quantized, then rescale input data to uint8\n",
    "        if input_details['dtype'] == np.uint8:\n",
    "            input_scale, input_zero_point = input_details[\"quantization\"]\n",
    "            test_image = test_image / input_scale + input_zero_point\n",
    "\n",
    "        test_image = np.expand_dims(test_image, axis=0).astype(input_details[\"dtype\"])\n",
    "        interpreter.set_tensor(input_details[\"index\"], test_image)\n",
    "        interpreter.invoke()\n",
    "        output = interpreter.get_tensor(output_details[\"index\"])[0]\n",
    "\n",
    "        # Check if the output type is quantized, then rescale output data to float\n",
    "        if output_details['dtype'] == np.uint8:\n",
    "            output_scale, output_zero_point = output_details[\"quantization\"]\n",
    "            test_image = test_image.astype(np.float32)\n",
    "            test_image = test_image / input_scale + input_zero_point\n",
    "\n",
    "        predictions[i] = output.argmax()\n",
    "\n",
    "    return predictions\n",
    "\n",
    " "
   ]
  },
  {
   "cell_type": "code",
   "execution_count": 5,
   "metadata": {},
   "outputs": [],
   "source": [
    "# dynamic tflite 정확도 측정 함수\n",
    "def devaluate_model(interpreter):\n",
    "    input_index = interpreter.get_input_details()[0][\"index\"]\n",
    "    output_index = interpreter.get_output_details()[0][\"index\"]\n",
    "\n",
    "    # Run predictions on every image in the \"test\" dataset.\n",
    "    prediction_digits = []\n",
    "    for test_image in test_images:\n",
    "    # Pre-processing: add batch dimension and convert to float32 to match with\n",
    "    # the model's input data format.\n",
    "        test_image = np.expand_dims(test_image, axis=0).astype(np.float32)\n",
    "        interpreter.set_tensor(input_index, test_image)\n",
    "\n",
    "    # Run inference.\n",
    "        interpreter.invoke()\n",
    "\n",
    "        # Post-processing: remove batch dimension and find the digit with highest\n",
    "        # probability.\n",
    "        output = interpreter.tensor(output_index)\n",
    "        digit = np.argmax(output()[0])\n",
    "        prediction_digits.append(digit)\n",
    "\n",
    "  # Compare prediction results with ground truth labels to calculate accuracy.\n",
    "    accurate_count = 0\n",
    "    for index in range(len(prediction_digits)):\n",
    "        if prediction_digits[index] == test_labels[index]:\n",
    "            accurate_count += 1\n",
    "    accuracy = accurate_count * 1.0 / len(prediction_digits)\n",
    "\n",
    "    return accuracy"
   ]
  },
  {
   "cell_type": "code",
   "execution_count": 6,
   "metadata": {},
   "outputs": [],
   "source": [
    "# integer tflite 정확도 측정 함수\n",
    "def ievaluate_model(tflite_file):\n",
    "    global test_images\n",
    "    global test_labels\n",
    "\n",
    "    test_image_indices = range(test_images.shape[0])\n",
    "    predictions = run_tflite_model(tflite_file, test_image_indices)\n",
    "\n",
    "    accuracy = (np.sum(test_labels== predictions) * 100) / len(test_images)\n",
    "\n",
    "    return accuracy"
   ]
  },
  {
   "cell_type": "code",
   "execution_count": 7,
   "metadata": {},
   "outputs": [],
   "source": [
    "# tflite 정확도 측정 함수\n",
    "import numpy as np\n",
    "\n",
    "def evaluate_model(interpreter):\n",
    "    input_index = interpreter.get_input_details()[0][\"index\"]\n",
    "    output_index = interpreter.get_output_details()[0][\"index\"]\n",
    "\n",
    "    # Run predictions on ever y image in the \"test\" dataset.\n",
    "    prediction_digits = []\n",
    "    for i, test_image in enumerate(test_images):\n",
    "        if i % 1000 == 0:\n",
    "            print('Evaluated on {n} results so far.'.format(n=i))\n",
    "    \n",
    "        test_image = np.expand_dims(test_image, axis=0).astype(np.float32)\n",
    "        interpreter.set_tensor(input_index, test_image)\n",
    "\n",
    "        # Run inference.\n",
    "        interpreter.invoke()\n",
    "\n",
    "        output = interpreter.tensor(output_index)\n",
    "        digit = np.argmax(output()[0])\n",
    "        prediction_digits.append(digit)\n",
    "\n",
    "    print('\\n')\n",
    "    # Compare prediction results with ground truth labels to calculate accuracy.\n",
    "    prediction_digits = np.array(prediction_digits)\n",
    "    accuracy = (prediction_digits == test_labels).mean()\n",
    "    return accuracy"
   ]
  },
  {
   "cell_type": "code",
   "execution_count": 8,
   "metadata": {},
   "outputs": [],
   "source": [
    "# 모델 사이즈를 측정하기 위한 함수\n",
    "def get_gzipped_model_size(file):\n",
    "  # Returns size of gzipped model, in bytes.\n",
    "    import os\n",
    "    import zipfile\n",
    "\n",
    "    _, zipped_file = tempfile.mkstemp('.zip')\n",
    "    with zipfile.ZipFile(zipped_file, 'w', compression=zipfile.ZIP_DEFLATED) as f:\n",
    "        f.write(file)\n",
    "\n",
    "    return os.path.getsize(zipped_file)"
   ]
  },
  {
   "cell_type": "code",
   "execution_count": 9,
   "metadata": {},
   "outputs": [],
   "source": [
    "# 일반적인 값을 표현하기에 충분히 큰 입력 데이터 세트를 제공하는 생성기 함수\n",
    "def representative_data_gen():\n",
    "    for input_value in tf.data.Dataset.from_tensor_slices(train_images).batch(1).take(100):\n",
    "        yield [input_value]"
   ]
  },
  {
   "cell_type": "markdown",
   "metadata": {},
   "source": [
    "## 1.weight pruning"
   ]
  },
  {
   "cell_type": "code",
   "execution_count": 10,
   "metadata": {},
   "outputs": [
    {
     "name": "stdout",
     "output_type": "stream",
     "text": [
      "WARNING:tensorflow:From /root/anaconda3/envs/paper/lib/python3.7/site-packages/tensorflow_model_optimization/python/core/sparsity/keras/pruning_wrapper.py:219: Layer.add_variable (from tensorflow.python.keras.engine.base_layer) is deprecated and will be removed in a future version.\n",
      "Instructions for updating:\n",
      "Please use `layer.add_weight` method instead.\n",
      "Model: \"sequential\"\n",
      "_________________________________________________________________\n",
      "Layer (type)                 Output Shape              Param #   \n",
      "=================================================================\n",
      "prune_low_magnitude_reshape  (None, 28, 28, 1)         1         \n",
      "_________________________________________________________________\n",
      "prune_low_magnitude_conv2d ( (None, 26, 26, 12)        230       \n",
      "_________________________________________________________________\n",
      "prune_low_magnitude_max_pool (None, 13, 13, 12)        1         \n",
      "_________________________________________________________________\n",
      "prune_low_magnitude_flatten  (None, 2028)              1         \n",
      "_________________________________________________________________\n",
      "prune_low_magnitude_dense (P (None, 10)                40572     \n",
      "=================================================================\n",
      "Total params: 40,805\n",
      "Trainable params: 20,410\n",
      "Non-trainable params: 20,395\n",
      "_________________________________________________________________\n",
      "Epoch 1/5\n",
      "  1/422 [..............................] - ETA: 0s - loss: 0.1464 - accuracy: 0.9531WARNING:tensorflow:From /root/anaconda3/envs/paper/lib/python3.7/site-packages/tensorflow/python/ops/summary_ops_v2.py:1277: stop (from tensorflow.python.eager.profiler) is deprecated and will be removed after 2020-07-01.\n",
      "Instructions for updating:\n",
      "use `tf.profiler.experimental.stop` instead.\n",
      "422/422 [==============================] - 4s 10ms/step - loss: 0.0874 - accuracy: 0.9741 - val_loss: 0.0805 - val_accuracy: 0.9788\n",
      "Epoch 2/5\n",
      "422/422 [==============================] - 4s 10ms/step - loss: 0.1092 - accuracy: 0.9697 - val_loss: 0.1306 - val_accuracy: 0.9678\n",
      "Epoch 3/5\n",
      "422/422 [==============================] - 4s 10ms/step - loss: 0.1839 - accuracy: 0.9484 - val_loss: 0.1576 - val_accuracy: 0.9563\n",
      "Epoch 4/5\n",
      "422/422 [==============================] - 4s 10ms/step - loss: 0.2154 - accuracy: 0.9399 - val_loss: 0.1867 - val_accuracy: 0.9540\n",
      "Epoch 5/5\n",
      "422/422 [==============================] - 4s 10ms/step - loss: 0.1860 - accuracy: 0.9487 - val_loss: 0.1446 - val_accuracy: 0.9605\n",
      "Saved pruned Keras model to: /tmp/tmpfw18hif4.h5\n",
      "Baseline test accuracy: 0.979200005531311\n",
      "Pruned test accuracy: 0.9527999758720398\n",
      "Baseline model size: 77996\n",
      "Pruned model size: 17482\n"
     ]
    }
   ],
   "source": [
    "prune_low_magnitude = tfmot.sparsity.keras.prune_low_magnitude\n",
    "\n",
    "# Compute end step to finish pruning after 4 epochs.\n",
    "batch_size = 128\n",
    "epochs = 5\n",
    "validation_split = 0.1 # 10% of training set will be used for validation set. \n",
    "\n",
    "num_images = train_images.shape[0] * (1 - validation_split)\n",
    "end_step = np.ceil(num_images / batch_size).astype(np.int32) * epochs\n",
    "\n",
    "# Define model for pruning.\n",
    "pruning_params = {\n",
    "      'pruning_schedule': tfmot.sparsity.keras.PolynomialDecay(initial_sparsity=0.50,\n",
    "                                                               final_sparsity=0.90,\n",
    "                                                               begin_step=0,\n",
    "                                                               end_step=end_step)\n",
    "}\n",
    "\n",
    "model_for_pruning = prune_low_magnitude(model, **pruning_params)\n",
    "\n",
    "# `prune_low_magnitude` requires a recompile.\n",
    "model_for_pruning.compile(optimizer='adam',\n",
    "              loss=tf.keras.losses.SparseCategoricalCrossentropy(from_logits=True),\n",
    "              metrics=['accuracy'])\n",
    "\n",
    "model_for_pruning.summary()\n",
    "\n",
    "logdir = tempfile.mkdtemp()\n",
    "\n",
    "callbacks = [\n",
    "  tfmot.sparsity.keras.UpdatePruningStep(),\n",
    "  tfmot.sparsity.keras.PruningSummaries(log_dir=logdir),\n",
    "]\n",
    "  \n",
    "model_for_pruning.fit(train_images, train_labels,\n",
    "                  batch_size=batch_size, epochs=epochs, validation_split=validation_split,\n",
    "                  callbacks=callbacks)\n",
    "\n",
    "_, model_for_pruning_accuracy = model_for_pruning.evaluate(\n",
    "   test_images, test_labels, verbose=0)\n",
    "\n",
    "model_for_export = tfmot.sparsity.keras.strip_pruning(model_for_pruning)\n",
    "\n",
    "_, pruned_keras_file = tempfile.mkstemp('.h5')\n",
    "tf.keras.models.save_model(model_for_export, pruned_keras_file, include_optimizer=False)\n",
    "print('Saved pruned Keras model to:', pruned_keras_file)\n",
    "\n",
    "################# 정확도 ###############################\n",
    "print('Baseline test accuracy:', baseline_model_accuracy) \n",
    "print('Pruned test accuracy:', model_for_pruning_accuracy)\n",
    "\n",
    "################# 모델 size ##############################\n",
    "print('Baseline model size:', get_gzipped_model_size(keras_file))\n",
    "print('Pruned model size:', get_gzipped_model_size(pruned_keras_file))"
   ]
  },
  {
   "cell_type": "markdown",
   "metadata": {},
   "source": [
    "## 2.quantization-aware training"
   ]
  },
  {
   "cell_type": "code",
   "execution_count": 11,
   "metadata": {},
   "outputs": [
    {
     "name": "stdout",
     "output_type": "stream",
     "text": [
      "Model: \"sequential\"\n",
      "_________________________________________________________________\n",
      "Layer (type)                 Output Shape              Param #   \n",
      "=================================================================\n",
      "quantize_layer (QuantizeLaye (None, 28, 28)            3         \n",
      "_________________________________________________________________\n",
      "quant_reshape (QuantizeWrapp (None, 28, 28, 1)         1         \n",
      "_________________________________________________________________\n",
      "quant_conv2d (QuantizeWrappe (None, 26, 26, 12)        147       \n",
      "_________________________________________________________________\n",
      "quant_max_pooling2d (Quantiz (None, 13, 13, 12)        1         \n",
      "_________________________________________________________________\n",
      "quant_flatten (QuantizeWrapp (None, 2028)              1         \n",
      "_________________________________________________________________\n",
      "quant_dense (QuantizeWrapper (None, 10)                20295     \n",
      "=================================================================\n",
      "Total params: 20,448\n",
      "Trainable params: 20,410\n",
      "Non-trainable params: 38\n",
      "_________________________________________________________________\n",
      "2/2 [==============================] - 0s 68ms/step - loss: 0.1789 - accuracy: 0.9522 - val_loss: 0.2110 - val_accuracy: 0.9400\n",
      "Saved quantized Keras model to: /tmp/tmp4x2yp5wn.h5\n",
      "Baseline test accuracy: 0.979200005531311\n",
      "Pruned test accuracy: 0.9527999758720398\n",
      "Quant test accuracy: 0.9524000287055969\n",
      "Baseline model size: 77996\n",
      "Pruned model size: 17482\n",
      "Quant model size: 35726\n"
     ]
    }
   ],
   "source": [
    "quantize_model = tfmot.quantization.keras.quantize_model\n",
    "\n",
    "# q_aware stands for for quantization aware.\n",
    "q_aware_model = quantize_model(model)\n",
    "\n",
    "# `quantize_model` requires a recompile.\n",
    "q_aware_model.compile(optimizer='adam',\n",
    "              loss=tf.keras.losses.SparseCategoricalCrossentropy(from_logits=True),\n",
    "              metrics=['accuracy'])\n",
    "\n",
    "q_aware_model.summary()\n",
    "\n",
    "train_images_subset = train_images[0:1000] # out of 60000\n",
    "train_labels_subset = train_labels[0:1000]\n",
    "\n",
    "q_aware_model.fit(train_images_subset, train_labels_subset,\n",
    "                  batch_size=500, epochs=1, validation_split=0.1)\n",
    "\n",
    "_, q_aware_model_accuracy = q_aware_model.evaluate(\n",
    "   test_images, test_labels, verbose=0)\n",
    "\n",
    "_, quantized_keras_file = tempfile.mkstemp('.h5')\n",
    "tf.keras.models.save_model(q_aware_model, quantized_keras_file, include_optimizer=False)\n",
    "print('Saved quantized Keras model to:', quantized_keras_file)\n",
    "\n",
    "################# 정확도 ###############################\n",
    "print('Baseline test accuracy:', baseline_model_accuracy)\n",
    "print('Pruned test accuracy:', model_for_pruning_accuracy)\n",
    "print('Quant test accuracy:', q_aware_model_accuracy)\n",
    "\n",
    "################# 모델 size ##############################\n",
    "print('Baseline model size:', get_gzipped_model_size(keras_file))\n",
    "print('Pruned model size:', get_gzipped_model_size(pruned_keras_file))\n",
    "print('Quant model size:', get_gzipped_model_size(quantized_keras_file))"
   ]
  },
  {
   "cell_type": "markdown",
   "metadata": {},
   "source": [
    "## 3.post-training dynamic range quantization"
   ]
  },
  {
   "cell_type": "code",
   "execution_count": 12,
   "metadata": {
    "scrolled": true
   },
   "outputs": [
    {
     "name": "stdout",
     "output_type": "stream",
     "text": [
      "WARNING:tensorflow:From /root/anaconda3/envs/paper/lib/python3.7/site-packages/tensorflow/python/training/tracking/tracking.py:111: Model.state_updates (from tensorflow.python.keras.engine.training) is deprecated and will be removed in a future version.\n",
      "Instructions for updating:\n",
      "This property should not be used in TensorFlow 2.0, as updates are applied automatically.\n",
      "WARNING:tensorflow:From /root/anaconda3/envs/paper/lib/python3.7/site-packages/tensorflow/python/training/tracking/tracking.py:111: Layer.updates (from tensorflow.python.keras.engine.base_layer) is deprecated and will be removed in a future version.\n",
      "Instructions for updating:\n",
      "This property should not be used in TensorFlow 2.0, as updates are applied automatically.\n",
      "INFO:tensorflow:Assets written to: /tmp/tmpw0xrgoj3/assets\n",
      "input:  <class 'numpy.float32'>\n",
      "output:  <class 'numpy.float32'>\n"
     ]
    }
   ],
   "source": [
    "converter = tf.lite.TFLiteConverter.from_keras_model(model)\n",
    "#Optimize.DEFAULT는 for zine에 맞춰서 optmodel = convert\n",
    "converter.optimizations = [tf.lite.Optimize.DEFAULT]\n",
    "dynamic_post_quan_tflite_model = converter.convert()\n",
    "\n",
    "interpreter_dynamic_post_q = tf.lite.Interpreter(model_content=dynamic_post_quan_tflite_model)\n",
    "input_type = interpreter_dynamic_post_q.get_input_details()[0]['dtype']\n",
    "print('input: ', input_type)\n",
    "output_type = interpreter_dynamic_post_q.get_output_details()[0]['dtype']\n",
    "print('output: ', output_type)"
   ]
  },
  {
   "cell_type": "code",
   "execution_count": 13,
   "metadata": {},
   "outputs": [
    {
     "name": "stdout",
     "output_type": "stream",
     "text": [
      "Baseline test accuracy: 0.979200005531311\n",
      "Pruned test accuracy: 0.9527999758720398\n",
      "Quant test accuracy: 0.9524000287055969\n",
      "Dynamic Post-Quant test accuracy: 0.9526\n",
      "Baseline model size: 77996\n",
      "Pruned model size: 17482\n",
      "Quant model size: 35726\n",
      "Baseline model size: 5509\n"
     ]
    }
   ],
   "source": [
    "dynamic_post_quan_tflite_file = tflite_models_dir/\"dynamic_post_quan_tflite_file.tflite\"\n",
    "dynamic_post_quan_tflite_file.write_bytes(dynamic_post_quan_tflite_model)\n",
    "\n",
    "interpreter_dynamic_post_q.allocate_tensors()\n",
    "dynamic_post_q_accuracy = devaluate_model(interpreter_dynamic_post_q)\n",
    "\n",
    "################# 정확도 ###############################\n",
    "print('Baseline test accuracy:', baseline_model_accuracy)\n",
    "print('Pruned test accuracy:', model_for_pruning_accuracy)\n",
    "print('Quant test accuracy:', q_aware_model_accuracy)\n",
    "print('Dynamic Post-Quant test accuracy:', dynamic_post_q_accuracy)\n",
    "\n",
    "################# 모델 size ##############################\n",
    "print('Baseline model size:', get_gzipped_model_size(keras_file))\n",
    "print('Pruned model size:', get_gzipped_model_size(pruned_keras_file))\n",
    "print('Quant model size:', get_gzipped_model_size(quantized_keras_file))\n",
    "print('Dynamic Post-Quant size:', get_gzipped_model_size(dynamic_post_quan_tflite_file))"
   ]
  },
  {
   "cell_type": "markdown",
   "metadata": {},
   "source": [
    "## 4.post-training integer quantization"
   ]
  },
  {
   "cell_type": "markdown",
   "metadata": {},
   "source": [
    "* 참고 사항: integer quantization은  TensorFlow r2.3에 추가 된 API를 사용"
   ]
  },
  {
   "cell_type": "code",
   "execution_count": 14,
   "metadata": {
    "scrolled": true
   },
   "outputs": [
    {
     "name": "stdout",
     "output_type": "stream",
     "text": [
      "INFO:tensorflow:Assets written to: /tmp/tmpexu23s7n/assets\n"
     ]
    },
    {
     "name": "stderr",
     "output_type": "stream",
     "text": [
      "INFO:tensorflow:Assets written to: /tmp/tmpexu23s7n/assets\n"
     ]
    },
    {
     "name": "stdout",
     "output_type": "stream",
     "text": [
      "input:  <class 'numpy.uint8'>\n",
      "output:  <class 'numpy.uint8'>\n"
     ]
    }
   ],
   "source": [
    "converter2 = tf.lite.TFLiteConverter.from_keras_model(model)\n",
    "converter2.optimizations = [tf.lite.Optimize.DEFAULT]\n",
    "converter2.representative_dataset = representative_data_gen\n",
    "converter2.target_spec.supported_ops = [tf.lite.OpsSet.TFLITE_BUILTINS_INT8]\n",
    "# Set the input and output tensors to uint8 \n",
    "converter2.inference_input_type = tf.uint8\n",
    "converter2.inference_output_type = tf.uint8\n",
    "\n",
    "integer_post_quan_tflite_model = converter2.convert()\n",
    "\n",
    "interpreter_integer_post_q = tf.lite.Interpreter(model_content=integer_post_quan_tflite_model)\n",
    "input_type = interpreter_integer_post_q.get_input_details()[0]['dtype']\n",
    "print('input: ', input_type)\n",
    "output_type = interpreter_integer_post_q.get_output_details()[0]['dtype']\n",
    "print('output: ', output_type)"
   ]
  },
  {
   "cell_type": "code",
   "execution_count": 15,
   "metadata": {},
   "outputs": [
    {
     "name": "stdout",
     "output_type": "stream",
     "text": [
      "Baseline test accuracy: 0.979200005531311\n",
      "Pruned test accuracy: 0.9527999758720398\n",
      "Quant test accuracy: 0.9524000287055969\n",
      "Dynamic Post-Quant test accuracy: 0.9526\n",
      "Integer Post-Quant test accuracy: 0.9529000000000001\n",
      "Baseline model size: 77996\n",
      "Pruned model size: 17482\n",
      "Quant model size: 35726\n",
      "Dynamic Post-Quant size: 5509\n",
      "Integer Post-Quant size: 5848\n"
     ]
    }
   ],
   "source": [
    "integer_post_quan_tflite_file = tflite_models_dir/\"integer_post_quan_tflite_file.tflite\"\n",
    "integer_post_quan_tflite_file.write_bytes(integer_post_quan_tflite_model)\n",
    "\n",
    "integer_post_q_accuracy = ievaluate_model(integer_post_quan_tflite_file)\n",
    "\n",
    "\n",
    "\n",
    "################# 정확도 ###############################\n",
    "print('Baseline test accuracy:', baseline_model_accuracy)\n",
    "print('Pruned test accuracy:', model_for_pruning_accuracy)\n",
    "print('Quant test accuracy:', q_aware_model_accuracy)\n",
    "print('Dynamic Post-Quant test accuracy:', dynamic_post_q_accuracy)\n",
    "print('Integer Post-Quant test accuracy:' , integer_post_q_accuracy*(1/100))\n",
    "\n",
    "################# 모델 size ##############################\n",
    "print('Baseline model size:', get_gzipped_model_size(keras_file))\n",
    "print('Pruned model size:', get_gzipped_model_size(pruned_keras_file))\n",
    "print('Quant model size:', get_gzipped_model_size(quantized_keras_file))\n",
    "print('Dynamic Post-Quant size:', get_gzipped_model_size(dynamic_post_quan_tflite_file))\n",
    "print('Integer Post-Quant size:', get_gzipped_model_size(integer_post_quan_tflite_file))"
   ]
  },
  {
   "cell_type": "markdown",
   "metadata": {},
   "source": [
    "## 5.post-training float16 quantization"
   ]
  },
  {
   "cell_type": "code",
   "execution_count": 16,
   "metadata": {},
   "outputs": [
    {
     "name": "stdout",
     "output_type": "stream",
     "text": [
      "INFO:tensorflow:Assets written to: /tmp/tmpya6ah2ck/assets\n"
     ]
    },
    {
     "name": "stderr",
     "output_type": "stream",
     "text": [
      "INFO:tensorflow:Assets written to: /tmp/tmpya6ah2ck/assets\n"
     ]
    },
    {
     "name": "stdout",
     "output_type": "stream",
     "text": [
      "input:  <class 'numpy.float32'>\n",
      "output:  <class 'numpy.float32'>\n"
     ]
    }
   ],
   "source": [
    "converter3 = tf.lite.TFLiteConverter.from_keras_model(model)\n",
    "converter3.optimizations = [tf.lite.Optimize.DEFAULT]\n",
    "converter3.target_spec.supported_types = [tf.float16]\n",
    "\n",
    "fp16_post_quan_tflite_model = converter3.convert()\n",
    "\n",
    "interpreter_fp16_post_q = tf.lite.Interpreter(model_content=fp16_post_quan_tflite_model)\n",
    "input_type = interpreter_fp16_post_q.get_input_details()[0]['dtype']\n",
    "print('input: ', input_type)\n",
    "output_type = interpreter_fp16_post_q.get_output_details()[0]['dtype']\n",
    "print('output: ', output_type)"
   ]
  },
  {
   "cell_type": "code",
   "execution_count": 17,
   "metadata": {},
   "outputs": [
    {
     "name": "stdout",
     "output_type": "stream",
     "text": [
      "Baseline test accuracy: 0.979200005531311\n",
      "Pruned test accuracy: 0.9527999758720398\n",
      "Quant test accuracy: 0.9524000287055969\n",
      "Dynamic Post-Quant test accuracy: 0.9526\n",
      "Integer Post-Quant test accuracy: 0.9529000000000001\n",
      "Float16 Post-Quant test accuracy: 0.9528\n",
      "Baseline model size: 77996\n",
      "Pruned model size: 17482\n",
      "Quant model size: 35726\n",
      "Dynamic Post-Quant size: 5509\n",
      "Integer Post-Quant size: 5848\n",
      "Float16 Post-Quant model size: 11164\n"
     ]
    }
   ],
   "source": [
    "fp16_post_quan_tflite_file = tflite_models_dir/\"fp16_post_quan_tflite_file.tflite\"\n",
    "fp16_post_quan_tflite_file.write_bytes(fp16_post_quan_tflite_model)\n",
    "\n",
    "interpreter_fp16_post_q.allocate_tensors()\n",
    "fp16_post_q_accuracy = devaluate_model(interpreter_fp16_post_q)\n",
    "\n",
    "\n",
    "\n",
    "################# 정확도 ###############################\n",
    "print('Baseline test accuracy:', baseline_model_accuracy)\n",
    "print('Pruned test accuracy:', model_for_pruning_accuracy)\n",
    "print('Quant test accuracy:', q_aware_model_accuracy)\n",
    "print('Dynamic Post-Quant test accuracy:', dynamic_post_q_accuracy)\n",
    "print('Integer Post-Quant test accuracy:' , integer_post_q_accuracy*(1/100))\n",
    "print('Float16 Post-Quant test accuracy:' , fp16_post_q_accuracy)\n",
    "\n",
    "################# 모델 size ##############################\n",
    "print('Baseline model size:', get_gzipped_model_size(keras_file))\n",
    "print('Pruned model size:', get_gzipped_model_size(pruned_keras_file))\n",
    "print('Quant model size:', get_gzipped_model_size(quantized_keras_file))\n",
    "print('Dynamic Post-Quant size:', get_gzipped_model_size(dynamic_post_quan_tflite_file))\n",
    "print('Integer Post-Quant size:', get_gzipped_model_size(integer_post_quan_tflite_file))\n",
    "print('Float16 Post-Quant model size:', get_gzipped_model_size(fp16_post_quan_tflite_file))"
   ]
  },
  {
   "cell_type": "markdown",
   "metadata": {},
   "source": [
    "## 6.weight pruning + TFLite"
   ]
  },
  {
   "cell_type": "code",
   "execution_count": 18,
   "metadata": {},
   "outputs": [
    {
     "name": "stdout",
     "output_type": "stream",
     "text": [
      "INFO:tensorflow:Assets written to: /tmp/tmpkzhfo24j/assets\n"
     ]
    },
    {
     "name": "stderr",
     "output_type": "stream",
     "text": [
      "INFO:tensorflow:Assets written to: /tmp/tmpkzhfo24j/assets\n"
     ]
    },
    {
     "name": "stdout",
     "output_type": "stream",
     "text": [
      "Baseline test accuracy: 0.979200005531311\n",
      "Pruned test accuracy: 0.9527999758720398\n",
      "Quant test accuracy: 0.9524000287055969\n",
      "Dynamic Post-Quant test accuracy: 0.9526\n",
      "Integer Post-Quant test accuracy: 0.9529000000000001\n",
      "Float16 Post-Quant test accuracy: 0.9528\n",
      "Pruned + TFLite test_accuracy: 0.9528\n",
      "Baseline model size: 77996\n",
      "Pruned model size: 17482\n",
      "Quant model size: 35726\n",
      "Dynamic Post-Quant size: 5509\n",
      "Integer Post-Quant size: 5848\n",
      "Float16 Post-Quant model size: 11164\n",
      "Pruned + TFLite model size: 16833\n"
     ]
    }
   ],
   "source": [
    "converter = tf.lite.TFLiteConverter.from_keras_model(model_for_export)\n",
    "pruned_tflite_model = converter.convert()\n",
    "\n",
    "weightpruning_tflite_file = tflite_models_dir/\"weightpruning_tflite_file.tflite\"\n",
    "weightpruning_tflite_file.write_bytes(pruned_tflite_model)\n",
    "\n",
    "interpreter_p = tf.lite.Interpreter(model_content=pruned_tflite_model)\n",
    "interpreter_p.allocate_tensors()\n",
    "\n",
    "test_accuracy_p = devaluate_model(interpreter_p)\n",
    "\n",
    "\n",
    "################# 정확도 ###############################\n",
    "print('Baseline test accuracy:', baseline_model_accuracy)\n",
    "print('Pruned test accuracy:', model_for_pruning_accuracy)\n",
    "print('Quant test accuracy:', q_aware_model_accuracy)\n",
    "print('Dynamic Post-Quant test accuracy:', dynamic_post_q_accuracy)\n",
    "print('Integer Post-Quant test accuracy:' , integer_post_q_accuracy*(1/100))\n",
    "print('Float16 Post-Quant test accuracy:' , fp16_post_q_accuracy)\n",
    "print('Pruned + TFLite test_accuracy:', test_accuracy_p)\n",
    "\n",
    "################# 모델 size ##############################\n",
    "print('Baseline model size:', get_gzipped_model_size(keras_file))\n",
    "print('Pruned model size:', get_gzipped_model_size(pruned_keras_file))\n",
    "print('Quant model size:', get_gzipped_model_size(quantized_keras_file))\n",
    "print('Dynamic Post-Quant size:', get_gzipped_model_size(dynamic_post_quan_tflite_file))\n",
    "print('Integer Post-Quant size:', get_gzipped_model_size(integer_post_quan_tflite_file))\n",
    "print('Float16 Post-Quant model size:', get_gzipped_model_size(fp16_post_quan_tflite_file))\n",
    "print('Pruned + TFLite model size:', get_gzipped_model_size(weightpruning_tflite_file))"
   ]
  },
  {
   "cell_type": "markdown",
   "metadata": {},
   "source": [
    "## 7.weight pruning + quantization-aware training "
   ]
  },
  {
   "cell_type": "code",
   "execution_count": 19,
   "metadata": {},
   "outputs": [
    {
     "name": "stdout",
     "output_type": "stream",
     "text": [
      "Model: \"sequential\"\n",
      "_________________________________________________________________\n",
      "Layer (type)                 Output Shape              Param #   \n",
      "=================================================================\n",
      "quantize_layer_1 (QuantizeLa (None, 28, 28)            3         \n",
      "_________________________________________________________________\n",
      "quant_reshape (QuantizeWrapp (None, 28, 28, 1)         1         \n",
      "_________________________________________________________________\n",
      "quant_conv2d (QuantizeWrappe (None, 26, 26, 12)        147       \n",
      "_________________________________________________________________\n",
      "quant_max_pooling2d (Quantiz (None, 13, 13, 12)        1         \n",
      "_________________________________________________________________\n",
      "quant_flatten (QuantizeWrapp (None, 2028)              1         \n",
      "_________________________________________________________________\n",
      "quant_dense (QuantizeWrapper (None, 10)                20295     \n",
      "=================================================================\n",
      "Total params: 20,448\n",
      "Trainable params: 20,410\n",
      "Non-trainable params: 38\n",
      "_________________________________________________________________\n",
      "2/2 [==============================] - 0s 68ms/step - loss: 0.1785 - accuracy: 0.9522 - val_loss: 0.2112 - val_accuracy: 0.9400\n"
     ]
    },
    {
     "data": {
      "text/plain": [
       "<tensorflow.python.keras.callbacks.History at 0x7f5a340cb550>"
      ]
     },
     "execution_count": 19,
     "metadata": {},
     "output_type": "execute_result"
    }
   ],
   "source": [
    "q_aware_prun_model = quantize_model(model_for_export)\n",
    "q_aware_prun_model.compile(optimizer='adam',\n",
    "              loss=tf.keras.losses.SparseCategoricalCrossentropy(from_logits=True),\n",
    "              metrics=['accuracy'])\n",
    "\n",
    "q_aware_prun_model.summary()\n",
    "\n",
    "train_images_subset = train_images[0:1000] # out of 60000\n",
    "train_labels_subset = train_labels[0:1000]\n",
    "\n",
    "q_aware_prun_model.fit(train_images_subset, train_labels_subset,\n",
    "                  batch_size=500, epochs=1, validation_split=0.1)"
   ]
  },
  {
   "cell_type": "code",
   "execution_count": 20,
   "metadata": {},
   "outputs": [
    {
     "name": "stdout",
     "output_type": "stream",
     "text": [
      "Saved pruned and quantized Keras model to: /tmp/tmpaesnu7e9.h5\n",
      "Baseline test accuracy: 0.979200005531311\n",
      "Pruned test accuracy: 0.9527999758720398\n",
      "Quant test accuracy: 0.9524000287055969\n",
      "Dynamic Post-Quant test accuracy: 0.9526\n",
      "Integer Post-Quant test accuracy: 0.9529000000000001\n",
      "Float16 Post-Quant test accuracy: 0.9528\n",
      "Pruned + TFLite test_accuracy: 0.9528\n",
      "Pruned and quantized test_accuracy: 0.9526000022888184\n",
      "Baseline model size: 77996\n",
      "Pruned model size: 17482\n",
      "Quant model size: 35726\n",
      "Dynamic Post-Quant size: 5509\n",
      "Integer Post-Quant size: 5848\n",
      "Float16 Post-Quant model size: 11164\n",
      "Pruned + TFLite model size: 16833\n",
      "Pruned and quantized model size: 35700\n"
     ]
    }
   ],
   "source": [
    "_, pruned_and_quantized_keras_file = tempfile.mkstemp('.h5')\n",
    "tf.keras.models.save_model(q_aware_prun_model, pruned_and_quantized_keras_file, include_optimizer=False)\n",
    "print('Saved pruned and quantized Keras model to:', pruned_and_quantized_keras_file)\n",
    "\n",
    "_, q_aware_prun_model_accuracy =q_aware_prun_model.evaluate(test_images, test_labels, verbose=0)\n",
    "\n",
    "\n",
    "################# 정확도 ###############################\n",
    "print('Baseline test accuracy:', baseline_model_accuracy)\n",
    "print('Pruned test accuracy:', model_for_pruning_accuracy)\n",
    "print('Quant test accuracy:', q_aware_model_accuracy)\n",
    "print('Dynamic Post-Quant test accuracy:', dynamic_post_q_accuracy)\n",
    "print('Integer Post-Quant test accuracy:' , integer_post_q_accuracy*(1/100))\n",
    "print('Float16 Post-Quant test accuracy:' , fp16_post_q_accuracy)\n",
    "print('Pruned + TFLite test_accuracy:', test_accuracy_p)\n",
    "print('Pruned and quantized test_accuracy:', q_aware_prun_model_accuracy)\n",
    "\n",
    "################# 모델 size ##############################\n",
    "print('Baseline model size:', get_gzipped_model_size(keras_file))\n",
    "print('Pruned model size:', get_gzipped_model_size(pruned_keras_file))\n",
    "print('Quant model size:', get_gzipped_model_size(quantized_keras_file))\n",
    "print('Dynamic Post-Quant size:', get_gzipped_model_size(dynamic_post_quan_tflite_file))\n",
    "print('Integer Post-Quant size:', get_gzipped_model_size(integer_post_quan_tflite_file))\n",
    "print('Float16 Post-Quant model size:', get_gzipped_model_size(fp16_post_quan_tflite_file))\n",
    "print('Pruned + TFLite model size:', get_gzipped_model_size(weightpruning_tflite_file))\n",
    "print('Pruned and quantized model size:', get_gzipped_model_size(pruned_and_quantized_keras_file))"
   ]
  },
  {
   "cell_type": "markdown",
   "metadata": {},
   "source": [
    "## 8.quantization-aware training + post-training dynamic range quantization"
   ]
  },
  {
   "cell_type": "code",
   "execution_count": 21,
   "metadata": {},
   "outputs": [
    {
     "name": "stdout",
     "output_type": "stream",
     "text": [
      "INFO:tensorflow:Assets written to: /tmp/tmpp0c6sbjr/assets\n"
     ]
    },
    {
     "name": "stderr",
     "output_type": "stream",
     "text": [
      "INFO:tensorflow:Assets written to: /tmp/tmpp0c6sbjr/assets\n"
     ]
    }
   ],
   "source": [
    "converter = tf.lite.TFLiteConverter.from_keras_model(q_aware_model)\n",
    "converter.optimizations = [tf.lite.Optimize.DEFAULT]\n",
    "qaware_dynamic_post_quan_tflite_model = converter.convert()\n",
    "\n",
    "interpreter_qaware_dynamic_post_q = tf.lite.Interpreter(model_content=qaware_dynamic_post_quan_tflite_model)\n",
    "interpreter_qaware_dynamic_post_q.allocate_tensors()"
   ]
  },
  {
   "cell_type": "code",
   "execution_count": 22,
   "metadata": {},
   "outputs": [
    {
     "name": "stdout",
     "output_type": "stream",
     "text": [
      "Evaluated on 0 results so far.\n",
      "Evaluated on 1000 results so far.\n",
      "Evaluated on 2000 results so far.\n",
      "Evaluated on 3000 results so far.\n",
      "Evaluated on 4000 results so far.\n",
      "Evaluated on 5000 results so far.\n",
      "Evaluated on 6000 results so far.\n",
      "Evaluated on 7000 results so far.\n",
      "Evaluated on 8000 results so far.\n",
      "Evaluated on 9000 results so far.\n",
      "\n",
      "\n",
      "Baseline test accuracy: 0.979200005531311\n",
      "Pruned test accuracy: 0.9527999758720398\n",
      "Quant test accuracy: 0.9524000287055969\n",
      "Dynamic Post-Quant test accuracy: 0.9526\n",
      "Integer Post-Quant test accuracy: 0.9529000000000001\n",
      "Float16 Post-Quant test accuracy: 0.9528\n",
      "Pruned + TFLite test_accuracy: 0.9528\n",
      "Pruned and quantized test_accuracy: 0.9526000022888184\n",
      "Quant + Dynamic Post-Quant test accuracy: 0.9524\n",
      "Baseline model size: 77996\n",
      "Pruned model size: 17482\n",
      "Quant model size: 35726\n",
      "Dynamic Post-Quant size: 5509\n",
      "Integer Post-Quant size: 5848\n",
      "Float16 Post-Quant model size: 11164\n",
      "Pruned + TFLite model size: 16833\n",
      "Pruned and quantized model size: 35700\n",
      "Quant + Dynamic Post-Quant model size: 5731\n"
     ]
    }
   ],
   "source": [
    "_, qaware_dynamic_post_quan_tflite_file = tempfile.mkstemp('.tflite')\n",
    "with open(qaware_dynamic_post_quan_tflite_file, 'wb') as f:\n",
    "    f.write(qaware_dynamic_post_quan_tflite_model)\n",
    "\n",
    "qaware_dynamic_post_q_accuracy = evaluate_model(interpreter_qaware_dynamic_post_q)\n",
    "\n",
    "\n",
    "################# 정확도 ###############################\n",
    "print('Baseline test accuracy:', baseline_model_accuracy)\n",
    "print('Pruned test accuracy:', model_for_pruning_accuracy)\n",
    "print('Quant test accuracy:', q_aware_model_accuracy)\n",
    "print('Dynamic Post-Quant test accuracy:', dynamic_post_q_accuracy)\n",
    "print('Integer Post-Quant test accuracy:' , integer_post_q_accuracy*(1/100))\n",
    "print('Float16 Post-Quant test accuracy:' , fp16_post_q_accuracy)\n",
    "print('Pruned + TFLite test_accuracy:', test_accuracy_p)\n",
    "print('Pruned and quantized test_accuracy:', q_aware_prun_model_accuracy)\n",
    "print('Quant + Dynamic Post-Quant test accuracy:', qaware_dynamic_post_q_accuracy)\n",
    "\n",
    "################# 모델 size ##############################\n",
    "print('Baseline model size:', get_gzipped_model_size(keras_file))\n",
    "print('Pruned model size:', get_gzipped_model_size(pruned_keras_file))\n",
    "print('Quant model size:', get_gzipped_model_size(quantized_keras_file))\n",
    "print('Dynamic Post-Quant size:', get_gzipped_model_size(dynamic_post_quan_tflite_file))\n",
    "print('Integer Post-Quant size:', get_gzipped_model_size(integer_post_quan_tflite_file))\n",
    "print('Float16 Post-Quant model size:', get_gzipped_model_size(fp16_post_quan_tflite_file))\n",
    "print('Pruned + TFLite model size:', get_gzipped_model_size(weightpruning_tflite_file))\n",
    "print('Pruned and quantized model size:', get_gzipped_model_size(pruned_and_quantized_keras_file))\n",
    "print('Quant + Dynamic Post-Quant model size:', get_gzipped_model_size(qaware_dynamic_post_quan_tflite_file))"
   ]
  },
  {
   "cell_type": "markdown",
   "metadata": {},
   "source": [
    "## 9. weight pruning + post-training dynamic range quantization"
   ]
  },
  {
   "cell_type": "code",
   "execution_count": 23,
   "metadata": {},
   "outputs": [
    {
     "name": "stdout",
     "output_type": "stream",
     "text": [
      "INFO:tensorflow:Assets written to: /tmp/tmpa9or8689/assets\n"
     ]
    },
    {
     "name": "stderr",
     "output_type": "stream",
     "text": [
      "INFO:tensorflow:Assets written to: /tmp/tmpa9or8689/assets\n"
     ]
    }
   ],
   "source": [
    "converter = tf.lite.TFLiteConverter.from_keras_model(model_for_export)\n",
    "converter.optimizations = [tf.lite.Optimize.DEFAULT]\n",
    "prun_dynamic_post_quan_tflite_model = converter.convert()\n",
    "\n",
    "interpreter_prun_dynamic_post_q = tf.lite.Interpreter(model_content=prun_dynamic_post_quan_tflite_model)\n",
    "interpreter_prun_dynamic_post_q.allocate_tensors()"
   ]
  },
  {
   "cell_type": "code",
   "execution_count": 24,
   "metadata": {},
   "outputs": [
    {
     "name": "stdout",
     "output_type": "stream",
     "text": [
      "Evaluated on 0 results so far.\n",
      "Evaluated on 1000 results so far.\n",
      "Evaluated on 2000 results so far.\n",
      "Evaluated on 3000 results so far.\n",
      "Evaluated on 4000 results so far.\n",
      "Evaluated on 5000 results so far.\n",
      "Evaluated on 6000 results so far.\n",
      "Evaluated on 7000 results so far.\n",
      "Evaluated on 8000 results so far.\n",
      "Evaluated on 9000 results so far.\n",
      "\n",
      "\n",
      "Baseline test accuracy: 0.979200005531311\n",
      "Pruned test accuracy: 0.9527999758720398\n",
      "Quant test accuracy: 0.9524000287055969\n",
      "Dynamic Post-Quant test accuracy: 0.9526\n",
      "Integer Post-Quant test accuracy: 0.9529000000000001\n",
      "Float16 Post-Quant test accuracy: 0.9528\n",
      "Pruned + TFLite test_accuracy: 0.9528\n",
      "Pruned and quantized test_accuracy: 0.9526000022888184\n",
      "Quant + Dynamic Post-Quant test accuracy: 0.9524\n",
      "Pruned + Dynamic Post-Quant test accuracy: 0.9526\n",
      "Baseline model size: 77996\n",
      "Pruned model size: 17482\n",
      "Quant model size: 35726\n",
      "Dynamic Post-Quant size: 5509\n",
      "Integer Post-Quant size: 5848\n",
      "Float16 Post-Quant model size: 11164\n",
      "Pruned + TFLite model size: 16833\n",
      "Pruned and quantized model size: 35700\n",
      "Quant + Dynamic Post-Quant model size: 5731\n",
      "Pruned + Dynamic Post-Quant model size: 5445\n"
     ]
    }
   ],
   "source": [
    "_, prun_dynamic_post_quan_tflite_file = tempfile.mkstemp('.tflite')\n",
    "with open(prun_dynamic_post_quan_tflite_file, 'wb') as f:\n",
    "    f.write(prun_dynamic_post_quan_tflite_model)\n",
    "\n",
    "prun_dynamic_post_q_accuracy = evaluate_model(interpreter_prun_dynamic_post_q)\n",
    "\n",
    "\n",
    "################# 정확도 ###############################\n",
    "print('Baseline test accuracy:', baseline_model_accuracy)\n",
    "print('Pruned test accuracy:', model_for_pruning_accuracy)\n",
    "print('Quant test accuracy:', q_aware_model_accuracy)\n",
    "print('Dynamic Post-Quant test accuracy:', dynamic_post_q_accuracy)\n",
    "print('Integer Post-Quant test accuracy:' , integer_post_q_accuracy*(1/100))\n",
    "print('Float16 Post-Quant test accuracy:' , fp16_post_q_accuracy)\n",
    "print('Pruned + TFLite test_accuracy:', test_accuracy_p)\n",
    "print('Pruned and quantized test_accuracy:', q_aware_prun_model_accuracy)\n",
    "print('Quant + Dynamic Post-Quant test accuracy:', qaware_dynamic_post_q_accuracy)\n",
    "print('Pruned + Dynamic Post-Quant test accuracy:', prun_dynamic_post_q_accuracy)\n",
    "\n",
    "################# 모델 size ##############################\n",
    "print('Baseline model size:', get_gzipped_model_size(keras_file))\n",
    "print('Pruned model size:', get_gzipped_model_size(pruned_keras_file))\n",
    "print('Quant model size:', get_gzipped_model_size(quantized_keras_file))\n",
    "print('Dynamic Post-Quant size:', get_gzipped_model_size(dynamic_post_quan_tflite_file))\n",
    "print('Integer Post-Quant size:', get_gzipped_model_size(integer_post_quan_tflite_file))\n",
    "print('Float16 Post-Quant model size:', get_gzipped_model_size(fp16_post_quan_tflite_file))\n",
    "print('Pruned + TFLite model size:', get_gzipped_model_size(weightpruning_tflite_file))\n",
    "print('Pruned and quantized model size:', get_gzipped_model_size(pruned_and_quantized_keras_file))\n",
    "print('Quant + Dynamic Post-Quant model size:', get_gzipped_model_size(qaware_dynamic_post_quan_tflite_file))\n",
    "print('Pruned + Dynamic Post-Quant model size:', get_gzipped_model_size(prun_dynamic_post_quan_tflite_file))"
   ]
  },
  {
   "cell_type": "markdown",
   "metadata": {},
   "source": [
    "## 10.weight pruning + post-training integer quantization"
   ]
  },
  {
   "cell_type": "code",
   "execution_count": 25,
   "metadata": {},
   "outputs": [
    {
     "name": "stdout",
     "output_type": "stream",
     "text": [
      "INFO:tensorflow:Assets written to: /tmp/tmpeg5newjr/assets\n"
     ]
    },
    {
     "name": "stderr",
     "output_type": "stream",
     "text": [
      "INFO:tensorflow:Assets written to: /tmp/tmpeg5newjr/assets\n"
     ]
    },
    {
     "name": "stdout",
     "output_type": "stream",
     "text": [
      "input:  <class 'numpy.uint8'>\n",
      "output:  <class 'numpy.uint8'>\n"
     ]
    }
   ],
   "source": [
    "converter2 = tf.lite.TFLiteConverter.from_keras_model(model_for_export)\n",
    "converter2.optimizations = [tf.lite.Optimize.DEFAULT]\n",
    "converter2.representative_dataset = representative_data_gen\n",
    "converter2.target_spec.supported_ops = [tf.lite.OpsSet.TFLITE_BUILTINS_INT8]\n",
    "# Set the input and output tensors to uint8 \n",
    "converter2.inference_input_type = tf.uint8\n",
    "converter2.inference_output_type = tf.uint8\n",
    "\n",
    "prun_integer_post_quan_tflite_model = converter2.convert()\n",
    "\n",
    "interpreter_prun_integer_post_q = tf.lite.Interpreter(model_content=prun_integer_post_quan_tflite_model)\n",
    "input_type = interpreter_prun_integer_post_q.get_input_details()[0]['dtype']\n",
    "print('input: ', input_type)\n",
    "output_type = interpreter_prun_integer_post_q.get_output_details()[0]['dtype']\n",
    "print('output: ', output_type)"
   ]
  },
  {
   "cell_type": "code",
   "execution_count": 26,
   "metadata": {},
   "outputs": [
    {
     "name": "stdout",
     "output_type": "stream",
     "text": [
      "Baseline test accuracy: 0.979200005531311\n",
      "Pruned test accuracy: 0.9527999758720398\n",
      "Quant test accuracy: 0.9524000287055969\n",
      "Dynamic Post-Quant test accuracy: 0.9526\n",
      "Integer Post-Quant test accuracy: 0.9529000000000001\n",
      "Float16 Post-Quant test accuracy: 0.9528\n",
      "Pruned + TFLite test_accuracy: 0.9528\n",
      "Pruned and quantized test_accuracy: 0.9526000022888184\n",
      "Quant + Dynamic Post-Quant test accuracy: 0.9524\n",
      "Pruned + Dynamic Post-Quant test accuracy: 0.9526\n",
      "Pruned + Integer Post-Quant test accuracy: 0.9529000000000001\n",
      "Baseline model size: 77996\n",
      "Pruned model size: 17482\n",
      "Quant model size: 35726\n",
      "Dynamic Post-Quant size: 5509\n",
      "Integer Post-Quant size: 5848\n",
      "Float16 Post-Quant model size: 11164\n",
      "Pruned + TFLite model size: 16833\n",
      "Pruned and quantized model size: 35700\n",
      "Quant + Dynamic Post-Quant model size: 5731\n",
      "Pruned + Dynamic Post-Quant model size: 5445\n",
      "Pruned + Integer Post-Quant model size: 5858\n"
     ]
    }
   ],
   "source": [
    "prun_integer_post_quan_tflite_file = tflite_models_dir/\"prun_integer_post_quan_tflite_file.tflite\"\n",
    "prun_integer_post_quan_tflite_file.write_bytes(prun_integer_post_quan_tflite_model)\n",
    "\n",
    "prun_integer_post_q_accuracy = ievaluate_model(prun_integer_post_quan_tflite_file)\n",
    "\n",
    "\n",
    "################# 정확도 ###############################\n",
    "print('Baseline test accuracy:', baseline_model_accuracy)\n",
    "print('Pruned test accuracy:', model_for_pruning_accuracy)\n",
    "print('Quant test accuracy:', q_aware_model_accuracy)\n",
    "print('Dynamic Post-Quant test accuracy:', dynamic_post_q_accuracy)\n",
    "print('Integer Post-Quant test accuracy:' , integer_post_q_accuracy*(1/100))\n",
    "print('Float16 Post-Quant test accuracy:' , fp16_post_q_accuracy)\n",
    "print('Pruned + TFLite test_accuracy:', test_accuracy_p)\n",
    "print('Pruned and quantized test_accuracy:', q_aware_prun_model_accuracy)\n",
    "print('Quant + Dynamic Post-Quant test accuracy:', qaware_dynamic_post_q_accuracy)\n",
    "print('Pruned + Dynamic Post-Quant test accuracy:', prun_dynamic_post_q_accuracy)\n",
    "print('Pruned + Integer Post-Quant test accuracy:', prun_integer_post_q_accuracy*(1/100))\n",
    "\n",
    "################# 모델 size ##############################\n",
    "print('Baseline model size:', get_gzipped_model_size(keras_file))\n",
    "print('Pruned model size:', get_gzipped_model_size(pruned_keras_file))\n",
    "print('Quant model size:', get_gzipped_model_size(quantized_keras_file))\n",
    "print('Dynamic Post-Quant size:', get_gzipped_model_size(dynamic_post_quan_tflite_file))\n",
    "print('Integer Post-Quant size:', get_gzipped_model_size(integer_post_quan_tflite_file))\n",
    "print('Float16 Post-Quant model size:', get_gzipped_model_size(fp16_post_quan_tflite_file))\n",
    "print('Pruned + TFLite model size:', get_gzipped_model_size(weightpruning_tflite_file))\n",
    "print('Pruned and quantized model size:', get_gzipped_model_size(pruned_and_quantized_keras_file))\n",
    "print('Quant + Dynamic Post-Quant model size:', get_gzipped_model_size(qaware_dynamic_post_quan_tflite_file))\n",
    "print('Pruned + Dynamic Post-Quant model size:', get_gzipped_model_size(prun_dynamic_post_quan_tflite_file))\n",
    "print('Pruned + Integer Post-Quant model size:', get_gzipped_model_size(prun_integer_post_quan_tflite_file))"
   ]
  },
  {
   "cell_type": "markdown",
   "metadata": {},
   "source": [
    "## 11.weight pruning + post-training integer quantization"
   ]
  },
  {
   "cell_type": "code",
   "execution_count": 29,
   "metadata": {},
   "outputs": [
    {
     "name": "stdout",
     "output_type": "stream",
     "text": [
      "INFO:tensorflow:Assets written to: /tmp/tmpugapufvd/assets\n"
     ]
    },
    {
     "name": "stderr",
     "output_type": "stream",
     "text": [
      "INFO:tensorflow:Assets written to: /tmp/tmpugapufvd/assets\n"
     ]
    },
    {
     "name": "stdout",
     "output_type": "stream",
     "text": [
      "input:  <class 'numpy.float32'>\n",
      "output:  <class 'numpy.float32'>\n"
     ]
    }
   ],
   "source": [
    "converter3 = tf.lite.TFLiteConverter.from_keras_model(model_for_export)\n",
    "converter3.optimizations = [tf.lite.Optimize.DEFAULT]\n",
    "converter3.target_spec.supported_types = [tf.float16]\n",
    "\n",
    "prun_fp16_post_quan_tflite_model = converter3.convert()\n",
    "\n",
    "interpreter_prun_fp16_post_q = tf.lite.Interpreter(model_content=prun_fp16_post_quan_tflite_model)\n",
    "input_type = interpreter_prun_fp16_post_q.get_input_details()[0]['dtype']\n",
    "print('input: ', input_type)\n",
    "output_type = interpreter_prun_fp16_post_q.get_output_details()[0]['dtype']\n",
    "print('output: ', output_type)"
   ]
  },
  {
   "cell_type": "code",
   "execution_count": 30,
   "metadata": {},
   "outputs": [
    {
     "name": "stdout",
     "output_type": "stream",
     "text": [
      "Baseline test accuracy: 0.979200005531311\n",
      "Pruned test accuracy: 0.9527999758720398\n",
      "Quant test accuracy: 0.9524000287055969\n",
      "Dynamic Post-Quant test accuracy: 0.9526\n",
      "Integer Post-Quant test accuracy: 0.9529000000000001\n",
      "Float16 Post-Quant test accuracy: 0.9528\n",
      "Pruned + TFLite test_accuracy: 0.9528\n",
      "Pruned and quantized test_accuracy: 0.9526000022888184\n",
      "Quant + Dynamic Post-Quant test accuracy: 0.9524\n",
      "Pruned + Dynamic Post-Quant test accuracy: 0.9526\n",
      "Pruned + Integer Post-Quant test accuracy: 0.9529000000000001\n",
      "Pruned + Float16 Post-Quant test accuracy: 0.9528\n",
      "Baseline model size: 77996\n",
      "Pruned model size: 17482\n",
      "Quant model size: 35726\n",
      "Dynamic Post-Quant size: 5509\n",
      "Integer Post-Quant size: 5848\n",
      "Float16 Post-Quant model size: 7727\n",
      "Pruned + TFLite model size: 16833\n",
      "Pruned and quantized model size: 35700\n",
      "Quant + Dynamic Post-Quant model size: 5731\n",
      "Pruned + Dynamic Post-Quant model size: 5445\n",
      "Pruned + Integer Post-Quant model size: 5858\n",
      "Pruned + Float16 Post-Quant model size: 11167\n"
     ]
    }
   ],
   "source": [
    "prun_fp16_post_quan_tflite_file = tflite_models_dir/\"prun_fp16_post_quan_tflite_file.tflite\"\n",
    "prun_fp16_post_quan_tflite_file.write_bytes(prun_fp16_post_quan_tflite_model)\n",
    "\n",
    "interpreter_prun_fp16_post_q.allocate_tensors()\n",
    "prun_fp16_post_q_accuracy = devaluate_model(interpreter_prun_fp16_post_q)\n",
    "\n",
    "\n",
    "\n",
    "################# 정확도 ###############################\n",
    "print('Baseline test accuracy:', baseline_model_accuracy)\n",
    "print('Pruned test accuracy:', model_for_pruning_accuracy)\n",
    "print('Quant test accuracy:', q_aware_model_accuracy)\n",
    "print('Dynamic Post-Quant test accuracy:', dynamic_post_q_accuracy)\n",
    "print('Integer Post-Quant test accuracy:' , integer_post_q_accuracy*(1/100))\n",
    "print('Float16 Post-Quant test accuracy:' , fp16_post_q_accuracy)\n",
    "print('Pruned + TFLite test_accuracy:', test_accuracy_p)\n",
    "print('Pruned and quantized test_accuracy:', q_aware_prun_model_accuracy)\n",
    "print('Quant + Dynamic Post-Quant test accuracy:', qaware_dynamic_post_q_accuracy)\n",
    "print('Pruned + Dynamic Post-Quant test accuracy:', prun_dynamic_post_q_accuracy)\n",
    "print('Pruned + Integer Post-Quant test accuracy:', prun_integer_post_q_accuracy*(1/100))\n",
    "print('Pruned + Float16 Post-Quant test accuracy:', prun_fp16_post_q_accuracy)\n",
    "\n",
    "################# 모델 size ##############################\n",
    "print('Baseline model size:', get_gzipped_model_size(keras_file))\n",
    "print('Pruned model size:', get_gzipped_model_size(pruned_keras_file))\n",
    "print('Quant model size:', get_gzipped_model_size(quantized_keras_file))\n",
    "print('Dynamic Post-Quant size:', get_gzipped_model_size(dynamic_post_quan_tflite_file))\n",
    "print('Integer Post-Quant size:', get_gzipped_model_size(integer_post_quan_tflite_file))\n",
    "print('Float16 Post-Quant model size:', get_gzipped_model_size(fp16_post_quan_tflite_file))\n",
    "print('Pruned + TFLite model size:', get_gzipped_model_size(weightpruning_tflite_file))\n",
    "print('Pruned and quantized model size:', get_gzipped_model_size(pruned_and_quantized_keras_file))\n",
    "print('Quant + Dynamic Post-Quant model size:', get_gzipped_model_size(qaware_dynamic_post_quan_tflite_file))\n",
    "print('Pruned + Dynamic Post-Quant model size:', get_gzipped_model_size(prun_dynamic_post_quan_tflite_file))\n",
    "print('Pruned + Integer Post-Quant model size:', get_gzipped_model_size(prun_integer_post_quan_tflite_file))\n",
    "print('Pruned + Float16 Post-Quant model size:', get_gzipped_model_size(prun_fp16_post_quan_tflite_file))"
   ]
  },
  {
   "cell_type": "code",
   "execution_count": 60,
   "metadata": {},
   "outputs": [
    {
     "data": {
      "image/png": "[encoded data removed]",
      "text/plain": [
       "<Figure size 576x576 with 1 Axes>"
      ]
     },
     "metadata": {
      "needs_background": "light"
     },
     "output_type": "display_data"
    }
   ],
   "source": [
    "from matplotlib import pyplot as plt\n",
    "\n",
    "y = [baseline_model_accuracy, model_for_pruning_accuracy,\n",
    "    q_aware_model_accuracy, dynamic_post_q_accuracy,\n",
    "    integer_post_q_accuracy*(1/100),\n",
    "    fp16_post_q_accuracy, test_accuracy_p,\n",
    "    q_aware_prun_model_accuracy, qaware_dynamic_post_q_accuracy,\n",
    "    prun_dynamic_post_q_accuracy, \n",
    "    prun_integer_post_q_accuracy*(1/100),\n",
    "    prun_fp16_post_q_accuracy]\n",
    "\n",
    "x = ['base', 'weight_prun','quan_aware',\n",
    "    'post_dynamic','post_integer',\n",
    "    'post_float16','weight_prun + TFLite',\n",
    "    'weight_prun + quan_aware','quan_aware + post_dynamic',\n",
    "    'weight_prun + post_dynamic', 'weight_prun + post_integer',\n",
    "    'weight_prun + post_float16']\n",
    "\n",
    "plt.figure(figsize=(8, 8))\n",
    "plt.barh(x, y, color=\"skyblue\", height=0.6)\n",
    "plt.xlim(0.94, 0.98)\n",
    "\n",
    "plt.yticks(x,fontsize=13)\n",
    "plt.title(\"Accuracy compare\")\n",
    "plt.show()"
   ]
  },
  {
   "cell_type": "code",
   "execution_count": 74,
   "metadata": {},
   "outputs": [
    {
     "data": {
      "image/png": "[encoded data removed]",
      "text/plain": [
       "<Figure size 576x576 with 1 Axes>"
      ]
     },
     "metadata": {
      "needs_background": "light"
     },
     "output_type": "display_data"
    }
   ],
   "source": [
    "y = [get_gzipped_model_size(keras_file),\n",
    "    get_gzipped_model_size(pruned_keras_file),\n",
    "    get_gzipped_model_size(quantized_keras_file),\n",
    "    get_gzipped_model_size(dynamic_post_quan_tflite_file),\n",
    "    get_gzipped_model_size(integer_post_quan_tflite_file),\n",
    "    get_gzipped_model_size(fp16_post_quan_tflite_file),\n",
    "    get_gzipped_model_size(weightpruning_tflite_file),\n",
    "    get_gzipped_model_size(pruned_and_quantized_keras_file),\n",
    "    get_gzipped_model_size(qaware_dynamic_post_quan_tflite_file),\n",
    "    get_gzipped_model_size(prun_dynamic_post_quan_tflite_file),\n",
    "    get_gzipped_model_size(prun_integer_post_quan_tflite_file),\n",
    "    get_gzipped_model_size(prun_fp16_post_quan_tflite_file)]\n",
    "\n",
    "x = ['base', 'weight_prun','quan_aware',\n",
    "    'post_dynamic','post_integer',\n",
    "    'post_float16','weight_prun + TFLite',\n",
    "    'weight_prun + quan_aware','quan_aware + post_dynamic',\n",
    "    'weight_prun + post_dynamic', 'weight_prun + post_integer',\n",
    "    'weight_prun + post_float16']\n",
    "\n",
    "plt.figure(figsize=(8, 8))\n",
    "plt.barh(x, y, color=\"red\", height=0.6)\n",
    "#plt.xlim(0.0,0.9)\n",
    "\n",
    "plt.yticks(x,fontsize=13)\n",
    "plt.title(\"Model Size compare\")\n",
    "plt.show()"
   ]
  },
  {
   "cell_type": "code",
   "execution_count": 76,
   "metadata": {},
   "outputs": [
    {
     "data": {
      "image/png": "[encoded data removed]",
      "text/plain": [
       "<Figure size 576x576 with 1 Axes>"
      ]
     },
     "metadata": {
      "needs_background": "light"
     },
     "output_type": "display_data"
    }
   ],
   "source": [
    "y=[np.log10(x) for x in y]\n",
    "plt.figure(figsize=(8, 8))\n",
    "plt.barh(x, y, color=\"red\", height=0.6)\n",
    "#plt.xlim(0.0,0.9)\n",
    "\n",
    "plt.yticks(x,fontsize=13)\n",
    "plt.title(\"Model Size compare\")\n",
    "plt.show()"
   ]
  },
  {
   "cell_type": "code",
   "execution_count": 83,
   "metadata": {},
   "outputs": [
    {
     "ename": "ValueError",
     "evalue": "'c' argument must be a color, a sequence of colors, or a sequence of numbers, not ['black', 'green', 'red', 'cyan', 'yellow', 'fuchsia', 'blue', 'orange', 'brown', 'lighpink', 'lime', 'lightcoral']",
     "output_type": "error",
     "traceback": [
      "\u001b[0;31m---------------------------------------------------------------------------\u001b[0m",
      "\u001b[0;31mValueError\u001b[0m                                Traceback (most recent call last)",
      "\u001b[0;32m~/anaconda3/envs/paper/lib/python3.7/site-packages/matplotlib/axes/_axes.py\u001b[0m in \u001b[0;36m_parse_scatter_color_args\u001b[0;34m(c, edgecolors, kwargs, xsize, get_next_color_func)\u001b[0m\n\u001b[1;32m   4238\u001b[0m             \u001b[0;32mtry\u001b[0m\u001b[0;34m:\u001b[0m  \u001b[0;31m# Is 'c' acceptable as PathCollection facecolors?\u001b[0m\u001b[0;34m\u001b[0m\u001b[0;34m\u001b[0m\u001b[0m\n\u001b[0;32m-> 4239\u001b[0;31m                 \u001b[0mcolors\u001b[0m \u001b[0;34m=\u001b[0m \u001b[0mmcolors\u001b[0m\u001b[0;34m.\u001b[0m\u001b[0mto_rgba_array\u001b[0m\u001b[0;34m(\u001b[0m\u001b[0mc\u001b[0m\u001b[0;34m)\u001b[0m\u001b[0;34m\u001b[0m\u001b[0;34m\u001b[0m\u001b[0m\n\u001b[0m\u001b[1;32m   4240\u001b[0m             \u001b[0;32mexcept\u001b[0m \u001b[0mValueError\u001b[0m\u001b[0;34m:\u001b[0m\u001b[0;34m\u001b[0m\u001b[0;34m\u001b[0m\u001b[0m\n",
      "\u001b[0;32m~/anaconda3/envs/paper/lib/python3.7/site-packages/matplotlib/colors.py\u001b[0m in \u001b[0;36mto_rgba_array\u001b[0;34m(c, alpha)\u001b[0m\n\u001b[1;32m    339\u001b[0m     \u001b[0;32melse\u001b[0m\u001b[0;34m:\u001b[0m\u001b[0;34m\u001b[0m\u001b[0;34m\u001b[0m\u001b[0m\n\u001b[0;32m--> 340\u001b[0;31m         \u001b[0;32mreturn\u001b[0m \u001b[0mnp\u001b[0m\u001b[0;34m.\u001b[0m\u001b[0marray\u001b[0m\u001b[0;34m(\u001b[0m\u001b[0;34m[\u001b[0m\u001b[0mto_rgba\u001b[0m\u001b[0;34m(\u001b[0m\u001b[0mcc\u001b[0m\u001b[0;34m,\u001b[0m \u001b[0malpha\u001b[0m\u001b[0;34m)\u001b[0m \u001b[0;32mfor\u001b[0m \u001b[0mcc\u001b[0m \u001b[0;32min\u001b[0m \u001b[0mc\u001b[0m\u001b[0;34m]\u001b[0m\u001b[0;34m)\u001b[0m\u001b[0;34m\u001b[0m\u001b[0;34m\u001b[0m\u001b[0m\n\u001b[0m\u001b[1;32m    341\u001b[0m \u001b[0;34m\u001b[0m\u001b[0m\n",
      "\u001b[0;32m~/anaconda3/envs/paper/lib/python3.7/site-packages/matplotlib/colors.py\u001b[0m in \u001b[0;36m<listcomp>\u001b[0;34m(.0)\u001b[0m\n\u001b[1;32m    339\u001b[0m     \u001b[0;32melse\u001b[0m\u001b[0;34m:\u001b[0m\u001b[0;34m\u001b[0m\u001b[0;34m\u001b[0m\u001b[0m\n\u001b[0;32m--> 340\u001b[0;31m         \u001b[0;32mreturn\u001b[0m \u001b[0mnp\u001b[0m\u001b[0;34m.\u001b[0m\u001b[0marray\u001b[0m\u001b[0;34m(\u001b[0m\u001b[0;34m[\u001b[0m\u001b[0mto_rgba\u001b[0m\u001b[0;34m(\u001b[0m\u001b[0mcc\u001b[0m\u001b[0;34m,\u001b[0m \u001b[0malpha\u001b[0m\u001b[0;34m)\u001b[0m \u001b[0;32mfor\u001b[0m \u001b[0mcc\u001b[0m \u001b[0;32min\u001b[0m \u001b[0mc\u001b[0m\u001b[0;34m]\u001b[0m\u001b[0;34m)\u001b[0m\u001b[0;34m\u001b[0m\u001b[0;34m\u001b[0m\u001b[0m\n\u001b[0m\u001b[1;32m    341\u001b[0m \u001b[0;34m\u001b[0m\u001b[0m\n",
      "\u001b[0;32m~/anaconda3/envs/paper/lib/python3.7/site-packages/matplotlib/colors.py\u001b[0m in \u001b[0;36mto_rgba\u001b[0;34m(c, alpha)\u001b[0m\n\u001b[1;32m    184\u001b[0m     \u001b[0;32mif\u001b[0m \u001b[0mrgba\u001b[0m \u001b[0;32mis\u001b[0m \u001b[0;32mNone\u001b[0m\u001b[0;34m:\u001b[0m  \u001b[0;31m# Suppress exception chaining of cache lookup failure.\u001b[0m\u001b[0;34m\u001b[0m\u001b[0;34m\u001b[0m\u001b[0m\n\u001b[0;32m--> 185\u001b[0;31m         \u001b[0mrgba\u001b[0m \u001b[0;34m=\u001b[0m \u001b[0m_to_rgba_no_colorcycle\u001b[0m\u001b[0;34m(\u001b[0m\u001b[0mc\u001b[0m\u001b[0;34m,\u001b[0m \u001b[0malpha\u001b[0m\u001b[0;34m)\u001b[0m\u001b[0;34m\u001b[0m\u001b[0;34m\u001b[0m\u001b[0m\n\u001b[0m\u001b[1;32m    186\u001b[0m         \u001b[0;32mtry\u001b[0m\u001b[0;34m:\u001b[0m\u001b[0;34m\u001b[0m\u001b[0;34m\u001b[0m\u001b[0m\n",
      "\u001b[0;32m~/anaconda3/envs/paper/lib/python3.7/site-packages/matplotlib/colors.py\u001b[0m in \u001b[0;36m_to_rgba_no_colorcycle\u001b[0;34m(c, alpha)\u001b[0m\n\u001b[1;32m    260\u001b[0m             \u001b[0;32mreturn\u001b[0m \u001b[0mc\u001b[0m\u001b[0;34m,\u001b[0m \u001b[0mc\u001b[0m\u001b[0;34m,\u001b[0m \u001b[0mc\u001b[0m\u001b[0;34m,\u001b[0m \u001b[0malpha\u001b[0m \u001b[0;32mif\u001b[0m \u001b[0malpha\u001b[0m \u001b[0;32mis\u001b[0m \u001b[0;32mnot\u001b[0m \u001b[0;32mNone\u001b[0m \u001b[0;32melse\u001b[0m \u001b[0;36m1.\u001b[0m\u001b[0;34m\u001b[0m\u001b[0;34m\u001b[0m\u001b[0m\n\u001b[0;32m--> 261\u001b[0;31m         \u001b[0;32mraise\u001b[0m \u001b[0mValueError\u001b[0m\u001b[0;34m(\u001b[0m\u001b[0;34mf\"Invalid RGBA argument: {orig_c!r}\"\u001b[0m\u001b[0;34m)\u001b[0m\u001b[0;34m\u001b[0m\u001b[0;34m\u001b[0m\u001b[0m\n\u001b[0m\u001b[1;32m    262\u001b[0m     \u001b[0;31m# tuple color.\u001b[0m\u001b[0;34m\u001b[0m\u001b[0;34m\u001b[0m\u001b[0;34m\u001b[0m\u001b[0m\n",
      "\u001b[0;31mValueError\u001b[0m: Invalid RGBA argument: 'lighpink'",
      "\nDuring handling of the above exception, another exception occurred:\n",
      "\u001b[0;31mValueError\u001b[0m                                Traceback (most recent call last)",
      "\u001b[0;32m<ipython-input-83-ee4327cf5793>\u001b[0m in \u001b[0;36m<module>\u001b[0;34m\u001b[0m\n\u001b[1;32m     31\u001b[0m \u001b[0;31m# d = [(10,10),(10,10),(10,-15),(10,10),(0,-15),(10,10),(30,10),(20,10),(40,-15)]\u001b[0m\u001b[0;34m\u001b[0m\u001b[0;34m\u001b[0m\u001b[0;34m\u001b[0m\u001b[0m\n\u001b[1;32m     32\u001b[0m \u001b[0mplt\u001b[0m\u001b[0;34m.\u001b[0m\u001b[0mfigure\u001b[0m\u001b[0;34m(\u001b[0m\u001b[0mfigsize\u001b[0m\u001b[0;34m=\u001b[0m\u001b[0;34m(\u001b[0m\u001b[0;36m8\u001b[0m\u001b[0;34m,\u001b[0m \u001b[0;36m8\u001b[0m\u001b[0;34m)\u001b[0m\u001b[0;34m)\u001b[0m\u001b[0;34m\u001b[0m\u001b[0;34m\u001b[0m\u001b[0m\n\u001b[0;32m---> 33\u001b[0;31m \u001b[0mplt\u001b[0m\u001b[0;34m.\u001b[0m\u001b[0mscatter\u001b[0m\u001b[0;34m(\u001b[0m\u001b[0mx\u001b[0m\u001b[0;34m,\u001b[0m\u001b[0my\u001b[0m\u001b[0;34m,\u001b[0m \u001b[0mc\u001b[0m\u001b[0;34m=\u001b[0m\u001b[0mcolors\u001b[0m\u001b[0;34m,\u001b[0m \u001b[0ms\u001b[0m\u001b[0;34m=\u001b[0m\u001b[0;36m200\u001b[0m\u001b[0;34m)\u001b[0m\u001b[0;34m\u001b[0m\u001b[0;34m\u001b[0m\u001b[0m\n\u001b[0m\u001b[1;32m     34\u001b[0m \u001b[0;34m\u001b[0m\u001b[0m\n\u001b[1;32m     35\u001b[0m \u001b[0;31m# i = 0\u001b[0m\u001b[0;34m\u001b[0m\u001b[0;34m\u001b[0m\u001b[0;34m\u001b[0m\u001b[0m\n",
      "\u001b[0;32m~/anaconda3/envs/paper/lib/python3.7/site-packages/matplotlib/pyplot.py\u001b[0m in \u001b[0;36mscatter\u001b[0;34m(x, y, s, c, marker, cmap, norm, vmin, vmax, alpha, linewidths, verts, edgecolors, plotnonfinite, data, **kwargs)\u001b[0m\n\u001b[1;32m   2814\u001b[0m         \u001b[0mverts\u001b[0m\u001b[0;34m=\u001b[0m\u001b[0mverts\u001b[0m\u001b[0;34m,\u001b[0m \u001b[0medgecolors\u001b[0m\u001b[0;34m=\u001b[0m\u001b[0medgecolors\u001b[0m\u001b[0;34m,\u001b[0m\u001b[0;34m\u001b[0m\u001b[0;34m\u001b[0m\u001b[0m\n\u001b[1;32m   2815\u001b[0m         plotnonfinite=plotnonfinite, **({\"data\": data} if data is not\n\u001b[0;32m-> 2816\u001b[0;31m         None else {}), **kwargs)\n\u001b[0m\u001b[1;32m   2817\u001b[0m     \u001b[0msci\u001b[0m\u001b[0;34m(\u001b[0m\u001b[0m__ret\u001b[0m\u001b[0;34m)\u001b[0m\u001b[0;34m\u001b[0m\u001b[0;34m\u001b[0m\u001b[0m\n\u001b[1;32m   2818\u001b[0m     \u001b[0;32mreturn\u001b[0m \u001b[0m__ret\u001b[0m\u001b[0;34m\u001b[0m\u001b[0;34m\u001b[0m\u001b[0m\n",
      "\u001b[0;32m~/anaconda3/envs/paper/lib/python3.7/site-packages/matplotlib/__init__.py\u001b[0m in \u001b[0;36minner\u001b[0;34m(ax, data, *args, **kwargs)\u001b[0m\n\u001b[1;32m   1563\u001b[0m     \u001b[0;32mdef\u001b[0m \u001b[0minner\u001b[0m\u001b[0;34m(\u001b[0m\u001b[0max\u001b[0m\u001b[0;34m,\u001b[0m \u001b[0;34m*\u001b[0m\u001b[0margs\u001b[0m\u001b[0;34m,\u001b[0m \u001b[0mdata\u001b[0m\u001b[0;34m=\u001b[0m\u001b[0;32mNone\u001b[0m\u001b[0;34m,\u001b[0m \u001b[0;34m**\u001b[0m\u001b[0mkwargs\u001b[0m\u001b[0;34m)\u001b[0m\u001b[0;34m:\u001b[0m\u001b[0;34m\u001b[0m\u001b[0;34m\u001b[0m\u001b[0m\n\u001b[1;32m   1564\u001b[0m         \u001b[0;32mif\u001b[0m \u001b[0mdata\u001b[0m \u001b[0;32mis\u001b[0m \u001b[0;32mNone\u001b[0m\u001b[0;34m:\u001b[0m\u001b[0;34m\u001b[0m\u001b[0;34m\u001b[0m\u001b[0m\n\u001b[0;32m-> 1565\u001b[0;31m             \u001b[0;32mreturn\u001b[0m \u001b[0mfunc\u001b[0m\u001b[0;34m(\u001b[0m\u001b[0max\u001b[0m\u001b[0;34m,\u001b[0m \u001b[0;34m*\u001b[0m\u001b[0mmap\u001b[0m\u001b[0;34m(\u001b[0m\u001b[0msanitize_sequence\u001b[0m\u001b[0;34m,\u001b[0m \u001b[0margs\u001b[0m\u001b[0;34m)\u001b[0m\u001b[0;34m,\u001b[0m \u001b[0;34m**\u001b[0m\u001b[0mkwargs\u001b[0m\u001b[0;34m)\u001b[0m\u001b[0;34m\u001b[0m\u001b[0;34m\u001b[0m\u001b[0m\n\u001b[0m\u001b[1;32m   1566\u001b[0m \u001b[0;34m\u001b[0m\u001b[0m\n\u001b[1;32m   1567\u001b[0m         \u001b[0mbound\u001b[0m \u001b[0;34m=\u001b[0m \u001b[0mnew_sig\u001b[0m\u001b[0;34m.\u001b[0m\u001b[0mbind\u001b[0m\u001b[0;34m(\u001b[0m\u001b[0max\u001b[0m\u001b[0;34m,\u001b[0m \u001b[0;34m*\u001b[0m\u001b[0margs\u001b[0m\u001b[0;34m,\u001b[0m \u001b[0;34m**\u001b[0m\u001b[0mkwargs\u001b[0m\u001b[0;34m)\u001b[0m\u001b[0;34m\u001b[0m\u001b[0;34m\u001b[0m\u001b[0m\n",
      "\u001b[0;32m~/anaconda3/envs/paper/lib/python3.7/site-packages/matplotlib/cbook/deprecation.py\u001b[0m in \u001b[0;36mwrapper\u001b[0;34m(*args, **kwargs)\u001b[0m\n\u001b[1;32m    356\u001b[0m                 \u001b[0;34mf\"%(removal)s.  If any parameter follows {name!r}, they \"\u001b[0m\u001b[0;34m\u001b[0m\u001b[0;34m\u001b[0m\u001b[0m\n\u001b[1;32m    357\u001b[0m                 f\"should be pass as keyword, not positionally.\")\n\u001b[0;32m--> 358\u001b[0;31m         \u001b[0;32mreturn\u001b[0m \u001b[0mfunc\u001b[0m\u001b[0;34m(\u001b[0m\u001b[0;34m*\u001b[0m\u001b[0margs\u001b[0m\u001b[0;34m,\u001b[0m \u001b[0;34m**\u001b[0m\u001b[0mkwargs\u001b[0m\u001b[0;34m)\u001b[0m\u001b[0;34m\u001b[0m\u001b[0;34m\u001b[0m\u001b[0m\n\u001b[0m\u001b[1;32m    359\u001b[0m \u001b[0;34m\u001b[0m\u001b[0m\n\u001b[1;32m    360\u001b[0m     \u001b[0;32mreturn\u001b[0m \u001b[0mwrapper\u001b[0m\u001b[0;34m\u001b[0m\u001b[0;34m\u001b[0m\u001b[0m\n",
      "\u001b[0;32m~/anaconda3/envs/paper/lib/python3.7/site-packages/matplotlib/axes/_axes.py\u001b[0m in \u001b[0;36mscatter\u001b[0;34m(self, x, y, s, c, marker, cmap, norm, vmin, vmax, alpha, linewidths, verts, edgecolors, plotnonfinite, **kwargs)\u001b[0m\n\u001b[1;32m   4401\u001b[0m             self._parse_scatter_color_args(\n\u001b[1;32m   4402\u001b[0m                 \u001b[0mc\u001b[0m\u001b[0;34m,\u001b[0m \u001b[0medgecolors\u001b[0m\u001b[0;34m,\u001b[0m \u001b[0mkwargs\u001b[0m\u001b[0;34m,\u001b[0m \u001b[0mx\u001b[0m\u001b[0;34m.\u001b[0m\u001b[0msize\u001b[0m\u001b[0;34m,\u001b[0m\u001b[0;34m\u001b[0m\u001b[0;34m\u001b[0m\u001b[0m\n\u001b[0;32m-> 4403\u001b[0;31m                 get_next_color_func=self._get_patches_for_fill.get_next_color)\n\u001b[0m\u001b[1;32m   4404\u001b[0m \u001b[0;34m\u001b[0m\u001b[0m\n\u001b[1;32m   4405\u001b[0m         \u001b[0;32mif\u001b[0m \u001b[0mplotnonfinite\u001b[0m \u001b[0;32mand\u001b[0m \u001b[0mcolors\u001b[0m \u001b[0;32mis\u001b[0m \u001b[0;32mNone\u001b[0m\u001b[0;34m:\u001b[0m\u001b[0;34m\u001b[0m\u001b[0;34m\u001b[0m\u001b[0m\n",
      "\u001b[0;32m~/anaconda3/envs/paper/lib/python3.7/site-packages/matplotlib/axes/_axes.py\u001b[0m in \u001b[0;36m_parse_scatter_color_args\u001b[0;34m(c, edgecolors, kwargs, xsize, get_next_color_func)\u001b[0m\n\u001b[1;32m   4244\u001b[0m                 \u001b[0;31m# severe failure => one may appreciate a verbose feedback.\u001b[0m\u001b[0;34m\u001b[0m\u001b[0;34m\u001b[0m\u001b[0;34m\u001b[0m\u001b[0m\n\u001b[1;32m   4245\u001b[0m                 raise ValueError(\n\u001b[0;32m-> 4246\u001b[0;31m                     \u001b[0;34mf\"'c' argument must be a color, a sequence of colors, or \"\u001b[0m\u001b[0;34m\u001b[0m\u001b[0;34m\u001b[0m\u001b[0m\n\u001b[0m\u001b[1;32m   4247\u001b[0m                     f\"a sequence of numbers, not {c}\")\n\u001b[1;32m   4248\u001b[0m             \u001b[0;32melse\u001b[0m\u001b[0;34m:\u001b[0m\u001b[0;34m\u001b[0m\u001b[0;34m\u001b[0m\u001b[0m\n",
      "\u001b[0;31mValueError\u001b[0m: 'c' argument must be a color, a sequence of colors, or a sequence of numbers, not ['black', 'green', 'red', 'cyan', 'yellow', 'fuchsia', 'blue', 'orange', 'brown', 'lighpink', 'lime', 'lightcoral']"
     ]
    },
    {
     "data": {
      "image/png": "[encoded data removed]",
      "text/plain": [
       "<Figure size 576x576 with 1 Axes>"
      ]
     },
     "metadata": {
      "needs_background": "light"
     },
     "output_type": "display_data"
    }
   ],
   "source": [
    "x = [baseline_model_accuracy, model_for_pruning_accuracy,\n",
    "    q_aware_model_accuracy, dynamic_post_q_accuracy,\n",
    "    integer_post_q_accuracy*(1/100),\n",
    "    fp16_post_q_accuracy, test_accuracy_p,\n",
    "    q_aware_prun_model_accuracy, qaware_dynamic_post_q_accuracy,\n",
    "    prun_dynamic_post_q_accuracy, \n",
    "    prun_integer_post_q_accuracy*(1/100),\n",
    "    prun_fp16_post_q_accuracy]\n",
    "\n",
    "y = [get_gzipped_model_size(keras_file),\n",
    "    get_gzipped_model_size(pruned_keras_file),\n",
    "    get_gzipped_model_size(quantized_keras_file),\n",
    "    get_gzipped_model_size(dynamic_post_quan_tflite_file),\n",
    "    get_gzipped_model_size(integer_post_quan_tflite_file),\n",
    "    get_gzipped_model_size(fp16_post_quan_tflite_file),\n",
    "    get_gzipped_model_size(weightpruning_tflite_file),\n",
    "    get_gzipped_model_size(pruned_and_quantized_keras_file),\n",
    "    get_gzipped_model_size(qaware_dynamic_post_quan_tflite_file),\n",
    "    get_gzipped_model_size(prun_dynamic_post_quan_tflite_file),\n",
    "    get_gzipped_model_size(prun_integer_post_quan_tflite_file),\n",
    "    get_gzipped_model_size(prun_fp16_post_quan_tflite_file)]\n",
    "\n",
    "z = ['base', 'weight_prun','quan_aware',\n",
    "    'post_dynamic','post_integer',\n",
    "    'post_float16','weight_prun + TFLite',\n",
    "    'weight_prun + quan_aware','quan_aware + post_dynamic',\n",
    "    'weight_prun + post_dynamic', 'weight_prun + post_integer',\n",
    "    'weight_prun + post_float16']\n",
    "\n",
    "colors = ['black','green','red','cyan', 'yellow','fuchsia','blue','orange', 'brown','lighpink','lime','lightcoral']\n",
    "# d = [(10,10),(10,10),(10,-15),(10,10),(0,-15),(10,10),(30,10),(20,10),(40,-15)]\n",
    "plt.figure(figsize=(8, 8))\n",
    "plt.scatter(x,y, c=colors, s=200)\n",
    "\n",
    "# i = 0\n",
    "# for xs,ys in zip(x,y):\n",
    "#     plt.annotate(z[i], (xs,ys), textcoords=\"offset points\",xytext=d[i],ha='right')\n",
    "#     i += 1\n",
    "plt.ylabel('Model Size')\n",
    "plt.xlabel('Accuracy')\n",
    "plt.show()"
   ]
  }
 ],
 "metadata": {
  "kernelspec": {
   "display_name": "Python 3",
   "language": "python",
   "name": "python3"
  },
  "language_info": {
   "codemirror_mode": {
    "name": "ipython",
    "version": 3
   },
   "file_extension": ".py",
   "mimetype": "text/x-python",
   "name": "python",
   "nbconvert_exporter": "python",
   "pygments_lexer": "ipython3",
   "version": "3.7.6"
  }
 },
 "nbformat": 4,
 "nbformat_minor": 4
}
